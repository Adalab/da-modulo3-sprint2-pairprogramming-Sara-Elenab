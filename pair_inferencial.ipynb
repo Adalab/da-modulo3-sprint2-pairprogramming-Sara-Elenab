{
 "cells": [
  {
   "cell_type": "code",
   "execution_count": 1,
   "metadata": {},
   "outputs": [
    {
     "name": "stderr",
     "output_type": "stream",
     "text": [
      "/home/karvala/anaconda3/lib/python3.9/site-packages/pandas/core/computation/expressions.py:21: UserWarning: Pandas requires version '2.8.0' or newer of 'numexpr' (version '2.7.3' currently installed).\n",
      "  from pandas.core.computation.check import NUMEXPR_INSTALLED\n",
      "/home/karvala/anaconda3/lib/python3.9/site-packages/pandas/core/arrays/masked.py:62: UserWarning: Pandas requires version '1.3.4' or newer of 'bottleneck' (version '1.3.2' currently installed).\n",
      "  from pandas.core import (\n"
     ]
    }
   ],
   "source": [
    "# importamos las librerías que necesitamos\n",
    "\n",
    "# Tratamiento de datos\n",
    "# -----------------------------------------------------------------------\n",
    "import pandas as pd\n",
    "import numpy as np\n",
    "\n",
    "# Visualización\n",
    "# ------------------------------------------------------------------------------\n",
    "import matplotlib.pyplot as plt\n",
    "import seaborn as sns\n",
    "\n",
    "# Evaluar linealidad de las relaciones entre las variables\n",
    "# y la distribución de las variables\n",
    "# ------------------------------------------------------------------------------\n",
    "#import scipy.stats as stats\n",
    "from scipy import stats\n",
    "from scipy.stats import shapiro, poisson, chisquare, expon, kstest, stats, t\n",
    "\n",
    "\n",
    "# Configuración\n",
    "# -----------------------------------------------------------------------\n",
    "pd.set_option('display.max_columns', None) # para poder visualizar todas las columnas de los DataFrames\n",
    "\n",
    "# Gestión de los warnings\n",
    "# -----------------------------------------------------------------------\n",
    "import warnings\n",
    "warnings.filterwarnings(\"ignore\")"
   ]
  },
  {
   "cell_type": "code",
   "execution_count": 2,
   "metadata": {},
   "outputs": [],
   "source": [
    "df = pd.read_csv('world_final.csv', index_col=0)"
   ]
  },
  {
   "cell_type": "code",
   "execution_count": 3,
   "metadata": {},
   "outputs": [
    {
     "data": {
      "text/plain": [
       "Index(['country', 'density', 'abbreviation', 'agriculturalland',\n",
       "       'capital/majorcity', 'currency-code', 'forestedarea',\n",
       "       'grossprimaryeducationenrollment', 'largestcity', 'officiallanguage',\n",
       "       'populationlaborforceparticipation', 'taxrevenue', 'latitude',\n",
       "       'longitude', 'Continent', 'gasolineprice_i', 'lifeexpectancy_i',\n",
       "       'landarea_k', 'armedforcessize_k', 'birthrate_k', 'callingcode_k',\n",
       "       'co2-emissions_k', 'cpi_k', 'cpichange_k', 'fertilityrate_k', 'gdp_k',\n",
       "       'grosstertiaryeducationenrollment_k', 'infantmortality_k',\n",
       "       'maternalmortalityratio_k', 'minimumwage_k',\n",
       "       'outofpockethealthexpenditure_k', 'population_k', 'totaltaxrate_k',\n",
       "       'unemploymentrate_k', 'urban_population_k'],\n",
       "      dtype='object')"
      ]
     },
     "execution_count": 3,
     "metadata": {},
     "output_type": "execute_result"
    }
   ],
   "source": [
    "df.columns\n"
   ]
  },
  {
   "cell_type": "code",
   "execution_count": 4,
   "metadata": {},
   "outputs": [],
   "source": [
    "nombre_columnas = {'gasolineprice_i': 'gasolineprice', 'lifeexpectancy_i' : 'lifeexpectancy',\n",
    "       'landarea_k' : 'landarea', 'armedforcessize_k' : 'armedforcessize', 'birthrate_k': 'birthrate', 'callingcode_k': 'callingcode', 'co2-emissions_k' : 'co2_emissions', 'cpi_k': 'cpi', 'cpichange_k':'cpichange', 'fertilityrate_k':'fertilityrate', 'gdp_k':'gdp', 'grosstertiaryeducationenrollment_k' : 'grosstertiaryeducationenrollment', 'infantmortality_k':'infantmortality','maternalmortalityratio_k' : 'maternalmortalityratio', 'minimumwage_k':'minimumwage', 'outofpockethealthexpenditure_k': 'outofpockethealthexpenditure', 'population_k' :'population', 'totaltaxrate_k':'totaltaxrate', 'unemploymentrate_k':'unemploymentrate', 'urban_population_k':'urban_population'}"
   ]
  },
  {
   "cell_type": "code",
   "execution_count": 5,
   "metadata": {},
   "outputs": [],
   "source": [
    "df.rename(columns=nombre_columnas, inplace=True)"
   ]
  },
  {
   "cell_type": "code",
   "execution_count": 6,
   "metadata": {},
   "outputs": [
    {
     "data": {
      "text/plain": [
       "Index(['country', 'density', 'abbreviation', 'agriculturalland',\n",
       "       'capital/majorcity', 'currency-code', 'forestedarea',\n",
       "       'grossprimaryeducationenrollment', 'largestcity', 'officiallanguage',\n",
       "       'populationlaborforceparticipation', 'taxrevenue', 'latitude',\n",
       "       'longitude', 'Continent', 'gasolineprice', 'lifeexpectancy', 'landarea',\n",
       "       'armedforcessize', 'birthrate', 'callingcode', 'co2_emissions', 'cpi',\n",
       "       'cpichange', 'fertilityrate', 'gdp', 'grosstertiaryeducationenrollment',\n",
       "       'infantmortality', 'maternalmortalityratio', 'minimumwage',\n",
       "       'outofpockethealthexpenditure', 'population', 'totaltaxrate',\n",
       "       'unemploymentrate', 'urban_population'],\n",
       "      dtype='object')"
      ]
     },
     "execution_count": 6,
     "metadata": {},
     "output_type": "execute_result"
    }
   ],
   "source": [
    "df.columns"
   ]
  },
  {
   "cell_type": "markdown",
   "metadata": {},
   "source": [
    "# Pair programming Estadística Inferencial\n",
    "## Ejercicios estadística inferencial\n",
    "1. Igual que en los ejercicios de la clase invertida, evalúa si las siguientes afirmaciones corresponden a una distribución exponencial o poisson.  \n",
    "¿El tiempo que transcurre entre la llegada de autobuses a una parada sigue una distribución exponencial o de Poisson?\n",
    "- exponencial  \n",
    "¿El número de errores en un artículo de noticias sigue una distribución exponencial o de Poisson?\n",
    "- Poisson  \n",
    "¿El tiempo que transcurre entre la llegada de solicitudes de servicio en un restaurante sigue una distribución exponencial o de Poisson?\n",
    "- exponencial  \n",
    "¿El número de accidentes de tráfico en una hora en una ciudad sigue una distribución exponencial o de Poisson?\n",
    "- Poisson  \n",
    "¿El tiempo entre llegadas de llamadas telefónicas a una central de emergencias sigue una distribución exponencial o de Poisson?\n",
    "- exponencial  \n",
    "¿El número de clientes que ingresan a una tienda en una hora sigue una distribución exponencial o de Poisson?\n",
    "-Poisson  \n",
    "¿El tiempo entre llegadas de correos electrónicos en una bandeja de entrada sigue una distribución exponencial o de Poisson?\n",
    "- exponencial  \n",
    "¿El número de defectos en una línea de producción por día sigue una distribución exponencial o de Poisson?\n",
    "-Poisson \n",
    "¿El tiempo que transcurre entre la llegada de taxis en una parada sigue una distribución exponencial o de Poisson?\n",
    "- exponencial  \n",
    "¿El número de errores de ortografía en un libro de texto sigue una distribución exponencial o de Poisson?\n",
    "- Poisson  "
   ]
  },
  {
   "cell_type": "markdown",
   "metadata": {},
   "source": [
    "2. Ejercicios intervalo de confianza. Al igual que en el caso del ejercicio de la clase invertida, piensa un motivo por el que sería interesante calcular estos intervalos de confianza para la extracción de insights.\n",
    "Intervalo de Confianza para la Esperanza de Vida \n",
    "Contexto: Trabajas en una organización de salud global y deseas estimar el intervalo de confianza al 95% para la esperanza de vida promedio de cada continente.\n",
    "Nota: Cuidado porque puede que os salgan algunos nulos, genera un código para que no salgan nulos en los intervalos de confianza."
   ]
  },
  {
   "cell_type": "code",
   "execution_count": 7,
   "metadata": {},
   "outputs": [
    {
     "name": "stdout",
     "output_type": "stream",
     "text": [
      "Intervalo de Confianza para la Esperanza de Vida :\n",
      "Media Muestral: Continent\n",
      "Africa     63.70\n",
      "America    74.86\n",
      "Asia       69.38\n",
      "Europa     79.15\n",
      "Oceania    73.85\n",
      "Name: lifeexpectancy, dtype: float64\n",
      "Error Estándar: 2.63\n",
      "Nivel de Confianza: 0.95\n",
      "Valor Crítico: 2.78\n",
      "Intervalo de Confianza: (Continent\n",
      "Africa     56.39\n",
      "America    67.55\n",
      "Asia       62.08\n",
      "Europa     71.85\n",
      "Oceania    66.55\n",
      "Name: lifeexpectancy, dtype: float64, Continent\n",
      "Africa     71.00\n",
      "America    82.16\n",
      "Asia       76.69\n",
      "Europa     86.46\n",
      "Oceania    81.15\n",
      "Name: lifeexpectancy, dtype: float64)\n"
     ]
    }
   ],
   "source": [
    "# lo primero que tenemos que hacer es calcular la estimación puntual, en este caso calcularemos la media de la duración de las llamadas\n",
    "media_esperanza = df.groupby('Continent')[\"lifeexpectancy\"].mean()\n",
    "\n",
    "# después vamos a calcular el error estándar utilizando el método \"sem\" de la librería stats\n",
    "error_esperanza = stats.sem(df.groupby('Continent')[\"lifeexpectancy\"].mean())\n",
    "\n",
    "# definimos el nivel de confianza (95% en este caso)\n",
    "nivel_confianza_esperanza = 0.95\n",
    "\n",
    "# calculamos los grados de libertad de la muestra. Recordad que debemos restar el total de datos que tenemos -1. \n",
    "grados_libertad_esperanza = len(df.groupby('Continent')[\"lifeexpectancy\"].mean()) - 1\n",
    "\n",
    "# calculamos el valor crítico de la muestra\n",
    "valor_critico_esperanza = t.ppf((1 + nivel_confianza_esperanza) / 2, df=grados_libertad_esperanza)\n",
    "\n",
    "# calculamos el intervalo de confianza\n",
    "limite_inferior_esperanza = media_esperanza - valor_critico_esperanza * error_esperanza\n",
    "limite_superior_esperanza = media_esperanza + valor_critico_esperanza * error_esperanza\n",
    "\n",
    "print(\"Intervalo de Confianza para la Esperanza de Vida :\")\n",
    "print(f\"Media Muestral: {np.round(media_esperanza, 2)}\")\n",
    "print(f\"Error Estándar: {np.round(error_esperanza, 2)}\")\n",
    "print(f\"Nivel de Confianza: {nivel_confianza_esperanza}\")\n",
    "print(f\"Valor Crítico: {np.round(valor_critico_esperanza, 2)}\")\n",
    "print(f\"Intervalo de Confianza: ({np.round(limite_inferior_esperanza, 2)}, {np.round(limite_superior_esperanza, 2)})\")\n"
   ]
  },
  {
   "cell_type": "markdown",
   "metadata": {},
   "source": [
    "Intervalo de Confianza para el PIB\n",
    "Contexto: Eres una economista y quieres calcular el intervalo de confianza al 90% para el Producto Interno Bruto (PIB) de los continentes."
   ]
  },
  {
   "cell_type": "code",
   "execution_count": 8,
   "metadata": {},
   "outputs": [
    {
     "data": {
      "text/plain": [
       "Continent\n",
       "Africa     4.711679e+10\n",
       "America    8.003766e+11\n",
       "Asia       4.267753e+11\n",
       "Europa     4.796692e+11\n",
       "Oceania    2.027466e+11\n",
       "Name: gdp, dtype: float64"
      ]
     },
     "execution_count": 8,
     "metadata": {},
     "output_type": "execute_result"
    }
   ],
   "source": [
    "gdp_continent = df.groupby('Continent')['gdp'].mean()\n",
    "gdp_continent"
   ]
  },
  {
   "cell_type": "code",
   "execution_count": 9,
   "metadata": {},
   "outputs": [
    {
     "name": "stdout",
     "output_type": "stream",
     "text": [
      "Intervalo de Confianza para el PIB:\n",
      "Media Muestral: Continent\n",
      "Africa     4.711679e+10\n",
      "America    8.003766e+11\n",
      "Asia       4.267753e+11\n",
      "Europa     4.796692e+11\n",
      "Oceania    2.027466e+11\n",
      "Name: gdp, dtype: float64\n",
      "Error Estándar: 128535157751.86\n",
      "Nivel de Confianza: 0.9\n",
      "Valor Crítico: 2.13\n",
      "Intervalo de Confianza: (Continent\n",
      "Africa    -2.269005e+11\n",
      "America    5.263593e+11\n",
      "Asia       1.527580e+11\n",
      "Europa     2.056519e+11\n",
      "Oceania   -7.127071e+10\n",
      "Name: gdp, dtype: float64, Continent\n",
      "Africa     3.211341e+11\n",
      "America    1.074394e+12\n",
      "Asia       7.007926e+11\n",
      "Europa     7.536865e+11\n",
      "Oceania    4.767638e+11\n",
      "Name: gdp, dtype: float64)\n"
     ]
    }
   ],
   "source": [
    "# lo primero que tenemos que hacer es calcular la estimación puntual, en este caso calcularemos la media de la duración de las llamadas\n",
    "media_gdp = df.groupby('Continent')[\"gdp\"].mean()\n",
    "\n",
    "# después vamos a calcular el error estándar utilizando el método \"sem\" de la librería stats\n",
    "error_gdp = stats.sem(gdp_continent)\n",
    "\n",
    "# definimos el nivel de confianza (90% en este caso)\n",
    "nivel_confianza_gdp = 0.90\n",
    "\n",
    "# calculamos los grados de libertad de la muestra. Recordad que debemos restar el total de datos que tenemos -1. \n",
    "grados_libertad_gdp = len(gdp_continent) - 1\n",
    "\n",
    "# calculamos el valor crítico de la muestra\n",
    "valor_critico_gdp = t.ppf((1 + nivel_confianza_gdp) / 2, df=grados_libertad_gdp)\n",
    "\n",
    "# calculamos el intervalo de confianza\n",
    "limite_inferior_gdp = media_gdp - valor_critico_gdp * error_gdp\n",
    "limite_superior_gdp = media_gdp + valor_critico_gdp * error_gdp\n",
    "\n",
    "print(\"Intervalo de Confianza para el PIB:\")\n",
    "print(f\"Media Muestral: {np.round(media_gdp, 2)}\")\n",
    "print(f\"Error Estándar: {np.round(error_gdp, 2)}\")\n",
    "print(f\"Nivel de Confianza: {nivel_confianza_gdp}\")\n",
    "print(f\"Valor Crítico: {np.round(valor_critico_gdp, 2)}\")\n",
    "print(f\"Intervalo de Confianza: ({np.round(limite_inferior_gdp, 2)}, {np.round(limite_superior_gdp, 2)})\")\n"
   ]
  },
  {
   "cell_type": "markdown",
   "metadata": {},
   "source": [
    "Intervalo de Confianza para la Tasa de Natalidad\n",
    "Contexto: Trabajas en una agencia gubernamental que se ocupa de cuestiones demográficas y deseas determinar el intervalo de confianza al 99% para la tasa de natalidad promedio en Asia."
   ]
  },
  {
   "cell_type": "code",
   "execution_count": 10,
   "metadata": {},
   "outputs": [
    {
     "data": {
      "text/plain": [
       "Index(['country', 'density', 'abbreviation', 'agriculturalland',\n",
       "       'capital/majorcity', 'currency-code', 'forestedarea',\n",
       "       'grossprimaryeducationenrollment', 'largestcity', 'officiallanguage',\n",
       "       'populationlaborforceparticipation', 'taxrevenue', 'latitude',\n",
       "       'longitude', 'Continent', 'gasolineprice', 'lifeexpectancy', 'landarea',\n",
       "       'armedforcessize', 'birthrate', 'callingcode', 'co2_emissions', 'cpi',\n",
       "       'cpichange', 'fertilityrate', 'gdp', 'grosstertiaryeducationenrollment',\n",
       "       'infantmortality', 'maternalmortalityratio', 'minimumwage',\n",
       "       'outofpockethealthexpenditure', 'population', 'totaltaxrate',\n",
       "       'unemploymentrate', 'urban_population'],\n",
       "      dtype='object')"
      ]
     },
     "execution_count": 10,
     "metadata": {},
     "output_type": "execute_result"
    }
   ],
   "source": [
    "df.columns"
   ]
  },
  {
   "cell_type": "code",
   "execution_count": 11,
   "metadata": {},
   "outputs": [
    {
     "name": "stdout",
     "output_type": "stream",
     "text": [
      "Intervalo de Confianza para la Tasa de Natalidad en Asia:\n",
      "Media Muestral: 24.74\n",
      "Error Estándar: 0.98\n",
      "Nivel de Confianza: 0.99\n",
      "Valor Crítico: 2.63\n",
      "Intervalo de Confianza: (22.16, 27.33)\n"
     ]
    }
   ],
   "source": [
    "# lo primero que tenemos que hacer es calcular la estimación puntual, en este caso calcularemos la media de la duración de las llamadas\n",
    "media_natalidad = df[df['Continent'] == 'Asia'][\"birthrate\"].mean()\n",
    "\n",
    "# después vamos a calcular el error estándar utilizando el método \"sem\" de la librería stats\n",
    "error_natalidad = stats.sem(df[df['Continent'] == 'Asia'][\"birthrate\"])\n",
    "\n",
    "# definimos el nivel de confianza (99% en este caso)\n",
    "nivel_confianza_natalidad = 0.99\n",
    "\n",
    "# calculamos los grados de libertad de la muestra. Recordad que debemos restar el total de datos que tenemos -1. \n",
    "grados_libertad_natalidad = len(df[df['Continent'] == 'Asia'][\"birthrate\"]) - 1\n",
    "\n",
    "# calculamos el valor crítico de la muestra\n",
    "valor_critico_natalidad = t.ppf((1 + nivel_confianza_natalidad) / 2, df=grados_libertad_natalidad)\n",
    "\n",
    "# calculamos el intervalo de confianza\n",
    "limite_inferior_natalidad = media_natalidad - valor_critico_natalidad * error_natalidad\n",
    "limite_superior_natalidad = media_natalidad + valor_critico_natalidad * error_natalidad\n",
    "\n",
    "print(\"Intervalo de Confianza para la Tasa de Natalidad en Asia:\")\n",
    "print(f\"Media Muestral: {np.round(media_natalidad, 2)}\")\n",
    "print(f\"Error Estándar: {np.round(error_natalidad, 2)}\")\n",
    "print(f\"Nivel de Confianza: {nivel_confianza_natalidad}\")\n",
    "print(f\"Valor Crítico: {np.round(valor_critico_natalidad, 2)}\")\n",
    "print(f\"Intervalo de Confianza: ({np.round(limite_inferior_natalidad, 2)}, {np.round(limite_superior_natalidad, 2)})\")\n"
   ]
  },
  {
   "cell_type": "markdown",
   "metadata": {},
   "source": [
    "Intervalo de Confianza para la Tasa de Desempleo\n",
    "Contexto: Eres un analista de políticas públicas y deseas calcular el intervalo de confianza al 95% para la tasa de desempleo promedio en los países de Oceanía."
   ]
  },
  {
   "cell_type": "code",
   "execution_count": 12,
   "metadata": {},
   "outputs": [
    {
     "name": "stdout",
     "output_type": "stream",
     "text": [
      "Intervalo de Confianza para la Tasa de Desempleo en Oceanía:\n",
      "Media Muestral: 5.92\n",
      "Error Estándar: 1.3\n",
      "Nivel de Confianza: 0.95\n",
      "Valor Crítico: 2.36\n",
      "Intervalo de Confianza: (2.85, 8.99)\n"
     ]
    }
   ],
   "source": [
    "# lo primero que tenemos que hacer es calcular la estimación puntual, en este caso calcularemos la media de la duración de las llamadas\n",
    "media_desempleo = df[df['Continent'] == 'Oceania'][\"unemploymentrate\"].mean()\n",
    "\n",
    "# después vamos a calcular el error estándar utilizando el método \"sem\" de la librería stats\n",
    "error_desempleo = stats.sem(df[df['Continent'] == 'Oceania'][\"unemploymentrate\"])\n",
    "\n",
    "# definimos el nivel de confianza (95% en este caso)\n",
    "nivel_confianza_desempleo = 0.95\n",
    "\n",
    "# calculamos los grados de libertad de la muestra. Recordad que debemos restar el total de datos que tenemos -1. \n",
    "grados_libertad_desempleo = len(df[df['Continent'] == 'Oceania'][\"unemploymentrate\"]) - 1\n",
    "\n",
    "# calculamos el valor crítico de la muestra\n",
    "valor_critico_desempleo = t.ppf((1 + nivel_confianza_desempleo) / 2, df=grados_libertad_desempleo)\n",
    "\n",
    "# calculamos el intervalo de confianza\n",
    "limite_inferior_desempleo = media_desempleo - valor_critico_desempleo * error_desempleo\n",
    "limite_superior_desempleo = media_desempleo + valor_critico_desempleo * error_desempleo\n",
    "\n",
    "print(\"Intervalo de Confianza para la Tasa de Desempleo en Oceanía:\")\n",
    "print(f\"Media Muestral: {np.round(media_desempleo, 2)}\")\n",
    "print(f\"Error Estándar: {np.round(error_desempleo, 2)}\")\n",
    "print(f\"Nivel de Confianza: {nivel_confianza_desempleo}\")\n",
    "print(f\"Valor Crítico: {np.round(valor_critico_desempleo, 2)}\")\n",
    "print(f\"Intervalo de Confianza: ({np.round(limite_inferior_desempleo, 2)}, {np.round(limite_superior_desempleo, 2)})\")\n"
   ]
  },
  {
   "cell_type": "markdown",
   "metadata": {},
   "source": [
    "Intervalo de Confianza para la Tasa de Impuestos\n",
    "Contexto: Trabajas en un ministerio de finanzas y deseas estimar el intervalo de confianza al 90% para la tasa de impuestos promedio en los países de África."
   ]
  },
  {
   "cell_type": "code",
   "execution_count": 13,
   "metadata": {},
   "outputs": [
    {
     "name": "stdout",
     "output_type": "stream",
     "text": [
      "Intervalo de Confianza para la Tasa de Impuestos en África:\n",
      "Media Muestral: 45.67\n",
      "Error Estándar: 16.07\n",
      "Nivel de Confianza: 0.9\n",
      "Valor Crítico: 1.8\n",
      "Intervalo de Confianza: (16.81, 74.54)\n"
     ]
    }
   ],
   "source": [
    "# lo primero que tenemos que hacer es calcular la estimación puntual, en este caso calcularemos la media de la duración de las llamadas\n",
    "media_impuestos = df[df['Continent'] == 'Africa'][\"totaltaxrate\"].mean()\n",
    "\n",
    "# después vamos a calcular el error estándar utilizando el método \"sem\" de la librería stats\n",
    "error_impuestos = stats.sem(df[df['Continent'] == 'Africa'][\"totaltaxrate\"])\n",
    "\n",
    "# definimos el nivel de confianza (90% en este caso)\n",
    "nivel_confianza_impuestos = 0.90\n",
    "\n",
    "# calculamos los grados de libertad de la muestra. Recordad que debemos restar el total de datos que tenemos -1. \n",
    "grados_libertad_impuestos = len(df[df['Continent'] == 'Africa'][\"totaltaxrate\"]) - 1\n",
    "\n",
    "# calculamos el valor crítico de la muestra\n",
    "valor_critico_impuestos = t.ppf((1 + nivel_confianza_impuestos) / 2, df=grados_libertad_impuestos)\n",
    "\n",
    "# calculamos el intervalo de confianza\n",
    "limite_inferior_impuestos = media_impuestos - valor_critico_impuestos * error_impuestos\n",
    "limite_superior_impuestos = media_impuestos + valor_critico_impuestos * error_impuestos\n",
    "\n",
    "print(\"Intervalo de Confianza para la Tasa de Impuestos en África:\")\n",
    "print(f\"Media Muestral: {np.round(media_impuestos, 2)}\")\n",
    "print(f\"Error Estándar: {np.round(error_impuestos, 2)}\")\n",
    "print(f\"Nivel de Confianza: {nivel_confianza_impuestos}\")\n",
    "print(f\"Valor Crítico: {np.round(valor_critico_impuestos, 2)}\")\n",
    "print(f\"Intervalo de Confianza: ({np.round(limite_inferior_impuestos, 2)}, {np.round(limite_superior_impuestos, 2)})\")\n"
   ]
  },
  {
   "cell_type": "markdown",
   "metadata": {},
   "source": [
    "3. Ejercicios prueba de hipótesis: Hasta ahora en la lección y en los ejercicios de la clase invertida os\n",
    "hemos propuesto un contexto y unas hipótesis para entender que es la prueba de hipótesis. Ahora es\n",
    "tu turno, tienes que pensar en 2 hipótesis que quieras aceptar o rechazar usando una prueba de\n",
    "hipótesis en base a los datos que tenemos."
   ]
  },
  {
   "cell_type": "code",
   "execution_count": 14,
   "metadata": {},
   "outputs": [
    {
     "data": {
      "text/html": [
       "<div>\n",
       "<style scoped>\n",
       "    .dataframe tbody tr th:only-of-type {\n",
       "        vertical-align: middle;\n",
       "    }\n",
       "\n",
       "    .dataframe tbody tr th {\n",
       "        vertical-align: top;\n",
       "    }\n",
       "\n",
       "    .dataframe thead th {\n",
       "        text-align: right;\n",
       "    }\n",
       "</style>\n",
       "<table border=\"1\" class=\"dataframe\">\n",
       "  <thead>\n",
       "    <tr style=\"text-align: right;\">\n",
       "      <th></th>\n",
       "      <th>country</th>\n",
       "      <th>density</th>\n",
       "      <th>abbreviation</th>\n",
       "      <th>agriculturalland</th>\n",
       "      <th>capital/majorcity</th>\n",
       "      <th>currency-code</th>\n",
       "      <th>forestedarea</th>\n",
       "      <th>grossprimaryeducationenrollment</th>\n",
       "      <th>largestcity</th>\n",
       "      <th>officiallanguage</th>\n",
       "      <th>populationlaborforceparticipation</th>\n",
       "      <th>taxrevenue</th>\n",
       "      <th>latitude</th>\n",
       "      <th>longitude</th>\n",
       "      <th>Continent</th>\n",
       "      <th>gasolineprice</th>\n",
       "      <th>lifeexpectancy</th>\n",
       "      <th>landarea</th>\n",
       "      <th>armedforcessize</th>\n",
       "      <th>birthrate</th>\n",
       "      <th>callingcode</th>\n",
       "      <th>co2_emissions</th>\n",
       "      <th>cpi</th>\n",
       "      <th>cpichange</th>\n",
       "      <th>fertilityrate</th>\n",
       "      <th>gdp</th>\n",
       "      <th>grosstertiaryeducationenrollment</th>\n",
       "      <th>infantmortality</th>\n",
       "      <th>maternalmortalityratio</th>\n",
       "      <th>minimumwage</th>\n",
       "      <th>outofpockethealthexpenditure</th>\n",
       "      <th>population</th>\n",
       "      <th>totaltaxrate</th>\n",
       "      <th>unemploymentrate</th>\n",
       "      <th>urban_population</th>\n",
       "    </tr>\n",
       "  </thead>\n",
       "  <tbody>\n",
       "    <tr>\n",
       "      <th>0</th>\n",
       "      <td>Afghanistan</td>\n",
       "      <td>60.0</td>\n",
       "      <td>AF</td>\n",
       "      <td>58.1</td>\n",
       "      <td>Kabul</td>\n",
       "      <td>AFN</td>\n",
       "      <td>2.1</td>\n",
       "      <td>104.0</td>\n",
       "      <td>Kabul</td>\n",
       "      <td>Pashto</td>\n",
       "      <td>48.90</td>\n",
       "      <td>9.3</td>\n",
       "      <td>33.939110</td>\n",
       "      <td>67.709953</td>\n",
       "      <td>Asia</td>\n",
       "      <td>0.70</td>\n",
       "      <td>64.500000</td>\n",
       "      <td>652230.0</td>\n",
       "      <td>323000.0</td>\n",
       "      <td>32.49</td>\n",
       "      <td>93.0</td>\n",
       "      <td>8672.0</td>\n",
       "      <td>149.900</td>\n",
       "      <td>2.30</td>\n",
       "      <td>4.47</td>\n",
       "      <td>1.910135e+10</td>\n",
       "      <td>9.70</td>\n",
       "      <td>47.9</td>\n",
       "      <td>638.0</td>\n",
       "      <td>0.43</td>\n",
       "      <td>78.4</td>\n",
       "      <td>38041754.0</td>\n",
       "      <td>71.40</td>\n",
       "      <td>11.120</td>\n",
       "      <td>9797273.0</td>\n",
       "    </tr>\n",
       "    <tr>\n",
       "      <th>1</th>\n",
       "      <td>Albania</td>\n",
       "      <td>105.0</td>\n",
       "      <td>AL</td>\n",
       "      <td>43.1</td>\n",
       "      <td>Tirana</td>\n",
       "      <td>ALL</td>\n",
       "      <td>28.1</td>\n",
       "      <td>107.0</td>\n",
       "      <td>Tirana</td>\n",
       "      <td>Albanian</td>\n",
       "      <td>55.70</td>\n",
       "      <td>18.6</td>\n",
       "      <td>41.153332</td>\n",
       "      <td>20.168331</td>\n",
       "      <td>Europa</td>\n",
       "      <td>1.36</td>\n",
       "      <td>78.500000</td>\n",
       "      <td>28748.0</td>\n",
       "      <td>9000.0</td>\n",
       "      <td>11.78</td>\n",
       "      <td>355.0</td>\n",
       "      <td>4536.0</td>\n",
       "      <td>119.050</td>\n",
       "      <td>1.40</td>\n",
       "      <td>1.62</td>\n",
       "      <td>1.527808e+10</td>\n",
       "      <td>55.00</td>\n",
       "      <td>7.8</td>\n",
       "      <td>15.0</td>\n",
       "      <td>1.12</td>\n",
       "      <td>56.9</td>\n",
       "      <td>2854191.0</td>\n",
       "      <td>36.60</td>\n",
       "      <td>12.330</td>\n",
       "      <td>1747593.0</td>\n",
       "    </tr>\n",
       "    <tr>\n",
       "      <th>2</th>\n",
       "      <td>Algeria</td>\n",
       "      <td>18.0</td>\n",
       "      <td>DZ</td>\n",
       "      <td>17.4</td>\n",
       "      <td>Algiers</td>\n",
       "      <td>DZD</td>\n",
       "      <td>0.8</td>\n",
       "      <td>109.9</td>\n",
       "      <td>Algiers</td>\n",
       "      <td>Arabic</td>\n",
       "      <td>41.20</td>\n",
       "      <td>37.2</td>\n",
       "      <td>28.033886</td>\n",
       "      <td>1.659626</td>\n",
       "      <td>Asia</td>\n",
       "      <td>0.28</td>\n",
       "      <td>76.700000</td>\n",
       "      <td>2381741.0</td>\n",
       "      <td>317000.0</td>\n",
       "      <td>24.28</td>\n",
       "      <td>213.0</td>\n",
       "      <td>150006.0</td>\n",
       "      <td>151.360</td>\n",
       "      <td>2.00</td>\n",
       "      <td>3.02</td>\n",
       "      <td>1.699882e+11</td>\n",
       "      <td>51.40</td>\n",
       "      <td>20.1</td>\n",
       "      <td>112.0</td>\n",
       "      <td>0.95</td>\n",
       "      <td>28.1</td>\n",
       "      <td>43053054.0</td>\n",
       "      <td>66.10</td>\n",
       "      <td>11.700</td>\n",
       "      <td>31510100.0</td>\n",
       "    </tr>\n",
       "    <tr>\n",
       "      <th>3</th>\n",
       "      <td>Andorra</td>\n",
       "      <td>164.0</td>\n",
       "      <td>AD</td>\n",
       "      <td>40.0</td>\n",
       "      <td>Andorra la Vella</td>\n",
       "      <td>EUR</td>\n",
       "      <td>34.0</td>\n",
       "      <td>106.4</td>\n",
       "      <td>Andorra la Vella</td>\n",
       "      <td>Catalan</td>\n",
       "      <td>62.45</td>\n",
       "      <td>16.3</td>\n",
       "      <td>42.506285</td>\n",
       "      <td>1.521801</td>\n",
       "      <td>Europa</td>\n",
       "      <td>1.51</td>\n",
       "      <td>80.442372</td>\n",
       "      <td>468.0</td>\n",
       "      <td>10800.0</td>\n",
       "      <td>7.20</td>\n",
       "      <td>376.0</td>\n",
       "      <td>469.0</td>\n",
       "      <td>169.706</td>\n",
       "      <td>6.82</td>\n",
       "      <td>1.27</td>\n",
       "      <td>3.154058e+09</td>\n",
       "      <td>9.82</td>\n",
       "      <td>2.7</td>\n",
       "      <td>436.8</td>\n",
       "      <td>6.63</td>\n",
       "      <td>36.4</td>\n",
       "      <td>77142.0</td>\n",
       "      <td>34.84</td>\n",
       "      <td>8.058</td>\n",
       "      <td>67873.0</td>\n",
       "    </tr>\n",
       "    <tr>\n",
       "      <th>4</th>\n",
       "      <td>Angola</td>\n",
       "      <td>26.0</td>\n",
       "      <td>AO</td>\n",
       "      <td>47.5</td>\n",
       "      <td>Luanda</td>\n",
       "      <td>AOA</td>\n",
       "      <td>46.3</td>\n",
       "      <td>113.5</td>\n",
       "      <td>Luanda</td>\n",
       "      <td>Portuguese</td>\n",
       "      <td>77.50</td>\n",
       "      <td>9.2</td>\n",
       "      <td>-11.202692</td>\n",
       "      <td>17.873887</td>\n",
       "      <td>Africa</td>\n",
       "      <td>0.97</td>\n",
       "      <td>60.800000</td>\n",
       "      <td>1246700.0</td>\n",
       "      <td>117000.0</td>\n",
       "      <td>40.73</td>\n",
       "      <td>244.0</td>\n",
       "      <td>34693.0</td>\n",
       "      <td>261.730</td>\n",
       "      <td>17.10</td>\n",
       "      <td>5.52</td>\n",
       "      <td>9.463542e+10</td>\n",
       "      <td>9.30</td>\n",
       "      <td>51.6</td>\n",
       "      <td>241.0</td>\n",
       "      <td>0.71</td>\n",
       "      <td>33.4</td>\n",
       "      <td>31825295.0</td>\n",
       "      <td>49.10</td>\n",
       "      <td>6.890</td>\n",
       "      <td>21061025.0</td>\n",
       "    </tr>\n",
       "  </tbody>\n",
       "</table>\n",
       "</div>"
      ],
      "text/plain": [
       "       country  density abbreviation  agriculturalland capital/majorcity  \\\n",
       "0  Afghanistan     60.0           AF              58.1             Kabul   \n",
       "1      Albania    105.0           AL              43.1            Tirana   \n",
       "2      Algeria     18.0           DZ              17.4           Algiers   \n",
       "3      Andorra    164.0           AD              40.0  Andorra la Vella   \n",
       "4       Angola     26.0           AO              47.5            Luanda   \n",
       "\n",
       "  currency-code  forestedarea  grossprimaryeducationenrollment  \\\n",
       "0           AFN           2.1                            104.0   \n",
       "1           ALL          28.1                            107.0   \n",
       "2           DZD           0.8                            109.9   \n",
       "3           EUR          34.0                            106.4   \n",
       "4           AOA          46.3                            113.5   \n",
       "\n",
       "        largestcity officiallanguage  populationlaborforceparticipation  \\\n",
       "0             Kabul           Pashto                              48.90   \n",
       "1            Tirana         Albanian                              55.70   \n",
       "2           Algiers           Arabic                              41.20   \n",
       "3  Andorra la Vella          Catalan                              62.45   \n",
       "4            Luanda       Portuguese                              77.50   \n",
       "\n",
       "   taxrevenue   latitude  longitude Continent  gasolineprice  lifeexpectancy  \\\n",
       "0         9.3  33.939110  67.709953      Asia           0.70       64.500000   \n",
       "1        18.6  41.153332  20.168331    Europa           1.36       78.500000   \n",
       "2        37.2  28.033886   1.659626      Asia           0.28       76.700000   \n",
       "3        16.3  42.506285   1.521801    Europa           1.51       80.442372   \n",
       "4         9.2 -11.202692  17.873887    Africa           0.97       60.800000   \n",
       "\n",
       "    landarea  armedforcessize  birthrate  callingcode  co2_emissions      cpi  \\\n",
       "0   652230.0         323000.0      32.49         93.0         8672.0  149.900   \n",
       "1    28748.0           9000.0      11.78        355.0         4536.0  119.050   \n",
       "2  2381741.0         317000.0      24.28        213.0       150006.0  151.360   \n",
       "3      468.0          10800.0       7.20        376.0          469.0  169.706   \n",
       "4  1246700.0         117000.0      40.73        244.0        34693.0  261.730   \n",
       "\n",
       "   cpichange  fertilityrate           gdp  grosstertiaryeducationenrollment  \\\n",
       "0       2.30           4.47  1.910135e+10                              9.70   \n",
       "1       1.40           1.62  1.527808e+10                             55.00   \n",
       "2       2.00           3.02  1.699882e+11                             51.40   \n",
       "3       6.82           1.27  3.154058e+09                              9.82   \n",
       "4      17.10           5.52  9.463542e+10                              9.30   \n",
       "\n",
       "   infantmortality  maternalmortalityratio  minimumwage  \\\n",
       "0             47.9                   638.0         0.43   \n",
       "1              7.8                    15.0         1.12   \n",
       "2             20.1                   112.0         0.95   \n",
       "3              2.7                   436.8         6.63   \n",
       "4             51.6                   241.0         0.71   \n",
       "\n",
       "   outofpockethealthexpenditure  population  totaltaxrate  unemploymentrate  \\\n",
       "0                          78.4  38041754.0         71.40            11.120   \n",
       "1                          56.9   2854191.0         36.60            12.330   \n",
       "2                          28.1  43053054.0         66.10            11.700   \n",
       "3                          36.4     77142.0         34.84             8.058   \n",
       "4                          33.4  31825295.0         49.10             6.890   \n",
       "\n",
       "   urban_population  \n",
       "0         9797273.0  \n",
       "1         1747593.0  \n",
       "2        31510100.0  \n",
       "3           67873.0  \n",
       "4        21061025.0  "
      ]
     },
     "execution_count": 14,
     "metadata": {},
     "output_type": "execute_result"
    }
   ],
   "source": [
    "df.head()"
   ]
  },
  {
   "cell_type": "code",
   "execution_count": 15,
   "metadata": {},
   "outputs": [
    {
     "data": {
      "image/png": "[encoded data removed]",
      "text/plain": [
       "<Figure size 432x288 with 1 Axes>"
      ]
     },
     "metadata": {
      "needs_background": "light"
     },
     "output_type": "display_data"
    }
   ],
   "source": [
    "densidad = df[df['density'].between(0,5000)]['density']\n",
    "\n",
    "# Crear un histograma para visualizar la distribución\n",
    "sns.histplot(densidad)\n",
    "\n",
    "# ponemos título a la gráfica\n",
    "plt.title('Histograma de Datos')\n",
    "\n",
    "# cambiamos el nombre del eje x\n",
    "plt.xlabel('densidad')\n",
    "\n",
    "# cambiamos el nombre del eje y\n",
    "plt.ylabel('Frecuencia');\n",
    "\n",
    "# como podemos ver los datos generados tienen forma de campana de Gaus, por lo que podemos decir que es una distribución normal. "
   ]
  },
  {
   "cell_type": "code",
   "execution_count": null,
   "metadata": {},
   "outputs": [],
   "source": [
    "# Realizar una prueba de normalidad (usando la prueba de Kolmogorov) para comprobar si la densidad es exponencial\n",
    "p_value = kstest(densidad, \"expon\").pvalue\n",
    "\n",
    "alpha = 0.05\n",
    "if p_value > alpha:\n",
    "    print(\"Los datos se ajustan a una distribución exponencial (p-value =\", p_value, \")\")\n",
    "else:\n",
    "    print(\"Los datos no se ajustan a una distribución exponencial (p-value =\", p_value, \")\")"
   ]
  },
  {
   "cell_type": "code",
   "execution_count": 36,
   "metadata": {},
   "outputs": [
    {
     "data": {
      "text/plain": [
       "16"
      ]
     },
     "execution_count": 36,
     "metadata": {},
     "output_type": "execute_result"
    }
   ],
   "source": [
    "col_num = ['agriculturalland', 'taxrevenue', 'gasolineprice',  'lifeexpectancy', 'landarea', 'birthrate',\n",
    "        'cpi','fertilityrate', 'gdp', 'infantmortality', 'maternalmortalityratio', 'minimumwage', 'population', 'totaltaxrate', 'unemploymentrate', 'urban_population']\n",
    "len(col_num)"
   ]
  },
  {
   "cell_type": "code",
   "execution_count": 42,
   "metadata": {},
   "outputs": [
    {
     "data": {
      "image/png": "[encoded data removed]",
      "text/plain": [
       "<Figure size 1440x720 with 16 Axes>"
      ]
     },
     "metadata": {
      "needs_background": "light"
     },
     "output_type": "display_data"
    }
   ],
   "source": [
    "fig, axes = plt.subplots(nrows = 4, ncols = 4, figsize = (20, 10))\n",
    "\n",
    "axes = axes.flat\n",
    "\n",
    "for indice, col in enumerate(list(col_num)):\n",
    "    sns.histplot(data = df[col], ax = axes[indice], bins=30)\n",
    "    \n",
    "    plt.suptitle(col)    \n",
    "\n",
    "    axes[indice].set_xlabel(col, fontsize = 9)\n",
    "    axes[indice].set_ylabel(\"Frecuencia\",  fontsize = 9)\n",
    "    plt.tight_layout();"
   ]
  },
  {
   "cell_type": "code",
   "execution_count": 43,
   "metadata": {},
   "outputs": [
    {
     "name": "stdout",
     "output_type": "stream",
     "text": [
      "Los datos se ajustan a una distribución normal (p-value = 0.5713980793952942 )\n"
     ]
    }
   ],
   "source": [
    "# Realizar una prueba de normalidad (usando la prueba de Shapiro-Wilk) para el precio de gasolina\n",
    "# H0: distribución normal\n",
    "# H1: disrtibución NO normal\n",
    " \n",
    "p_value = shapiro(df['gasolineprice']).pvalue\n",
    "\n",
    "alpha = 0.05\n",
    "if p_value > alpha:\n",
    "    print(\"Los datos se ajustan a una distribución normal (p-value =\", p_value, \")\")\n",
    "else:\n",
    "    print(\"Los datos no se ajustan a una distribución normal (p-value =\", p_value, \")\")"
   ]
  },
  {
   "cell_type": "code",
   "execution_count": 44,
   "metadata": {},
   "outputs": [],
   "source": [
    "df.to_csv('world_final.csv')"
   ]
  }
 ],
 "metadata": {
  "kernelspec": {
   "display_name": "base",
   "language": "python",
   "name": "python3"
  },
  "language_info": {
   "codemirror_mode": {
    "name": "ipython",
    "version": 3
   },
   "file_extension": ".py",
   "mimetype": "text/x-python",
   "name": "python",
   "nbconvert_exporter": "python",
   "pygments_lexer": "ipython3",
   "version": "3.9.7"
  }
 },
 "nbformat": 4,
 "nbformat_minor": 2
}
